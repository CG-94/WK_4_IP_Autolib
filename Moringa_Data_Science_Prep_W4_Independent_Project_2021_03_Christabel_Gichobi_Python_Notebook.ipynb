{
  "nbformat": 4,
  "nbformat_minor": 0,
  "metadata": {
    "colab": {
      "name": "Moringa_Data_Science_Prep_W4_Independent_Project_2021_03_Christabel_Gichobi_Python Notebook",
      "provenance": [],
      "toc_visible": true,
      "authorship_tag": "ABX9TyNyBDyHe7F4zEDnKn19vd6T",
      "include_colab_link": true
    },
    "kernelspec": {
      "name": "python3",
      "display_name": "Python 3"
    },
    "language_info": {
      "name": "python"
    }
  },
  "cells": [
    {
      "cell_type": "markdown",
      "metadata": {
        "id": "view-in-github",
        "colab_type": "text"
      },
      "source": [
        "<a href=\"https://colab.research.google.com/github/CG-94/WK_4_IP_Autolib/blob/main/Moringa_Data_Science_Prep_W4_Independent_Project_2021_03_Christabel_Gichobi_Python_Notebook.ipynb\" target=\"_parent\"><img src=\"https://colab.research.google.com/assets/colab-badge.svg\" alt=\"Open In Colab\"/></a>"
      ]
    },
    {
      "cell_type": "markdown",
      "metadata": {
        "id": "0RgXkhGkKwkZ"
      },
      "source": [
        "In this week's independent project, you will be working as a data scientist working for an electric car-sharing service company. You have been tasked to process stations data to understand electric car usage over time by solving for the following research question;\n",
        "\n",
        "Research Question\n",
        "\n",
        "*   Identify the most popular hour of the day for picking up a shared electric car (Bluecar) in the city of Paris over the month of April 2018."
      ]
    },
    {
      "cell_type": "markdown",
      "metadata": {
        "id": "-FsGXXJdLGYe"
      },
      "source": [
        "#1.0 Loading Datasets"
      ]
    },
    {
      "cell_type": "code",
      "metadata": {
        "colab": {
          "base_uri": "https://localhost:8080/",
          "height": 69
        },
        "id": "lv8ooXnzLEA4",
        "outputId": "6879963a-2e23-404c-83e2-cd723ed00436"
      },
      "source": [
        "import numpy as np  \n",
        "import pandas as pd\n",
        "%load_ext sql\n",
        "%sql sqlite://"
      ],
      "execution_count": 57,
      "outputs": [
        {
          "output_type": "stream",
          "text": [
            "The sql extension is already loaded. To reload it, use:\n",
            "  %reload_ext sql\n"
          ],
          "name": "stdout"
        },
        {
          "output_type": "execute_result",
          "data": {
            "application/vnd.google.colaboratory.intrinsic+json": {
              "type": "string"
            },
            "text/plain": [
              "'Connected: @None'"
            ]
          },
          "metadata": {
            "tags": []
          },
          "execution_count": 57
        }
      ]
    },
    {
      "cell_type": "code",
      "metadata": {
        "id": "t0PMVNHAL-87"
      },
      "source": [
        "url = 'http://bit.ly/autolib_dataset'\n",
        "Autolib = pd.read_csv(url)"
      ],
      "execution_count": null,
      "outputs": []
    },
    {
      "cell_type": "code",
      "metadata": {
        "colab": {
          "base_uri": "https://localhost:8080/",
          "height": 445
        },
        "id": "bz1J1qGLMjpv",
        "outputId": "f2d7710e-c049-4cff-b70b-b14c1bceac07"
      },
      "source": [
        "#Now let's preview the dataset\n",
        "\n",
        "Autolib.head(5)"
      ],
      "execution_count": 58,
      "outputs": [
        {
          "output_type": "execute_result",
          "data": {
            "text/html": [
              "<div>\n",
              "<style scoped>\n",
              "    .dataframe tbody tr th:only-of-type {\n",
              "        vertical-align: middle;\n",
              "    }\n",
              "\n",
              "    .dataframe tbody tr th {\n",
              "        vertical-align: top;\n",
              "    }\n",
              "\n",
              "    .dataframe thead th {\n",
              "        text-align: right;\n",
              "    }\n",
              "</style>\n",
              "<table border=\"1\" class=\"dataframe\">\n",
              "  <thead>\n",
              "    <tr style=\"text-align: right;\">\n",
              "      <th></th>\n",
              "      <th>Address</th>\n",
              "      <th>Cars</th>\n",
              "      <th>Bluecar counter</th>\n",
              "      <th>Utilib counter</th>\n",
              "      <th>Utilib 1.4 counter</th>\n",
              "      <th>Charge Slots</th>\n",
              "      <th>Charging Status</th>\n",
              "      <th>City</th>\n",
              "      <th>Displayed comment</th>\n",
              "      <th>ID</th>\n",
              "      <th>Kind</th>\n",
              "      <th>Geo point</th>\n",
              "      <th>Postal code</th>\n",
              "      <th>Public name</th>\n",
              "      <th>Rental status</th>\n",
              "      <th>Scheduled at</th>\n",
              "      <th>Slots</th>\n",
              "      <th>Station type</th>\n",
              "      <th>Status</th>\n",
              "      <th>Subscription status</th>\n",
              "      <th>year</th>\n",
              "      <th>month</th>\n",
              "      <th>day</th>\n",
              "      <th>hour</th>\n",
              "      <th>minute</th>\n",
              "    </tr>\n",
              "  </thead>\n",
              "  <tbody>\n",
              "    <tr>\n",
              "      <th>0</th>\n",
              "      <td>2 Avenue de Suffren</td>\n",
              "      <td>0</td>\n",
              "      <td>0</td>\n",
              "      <td>0</td>\n",
              "      <td>0</td>\n",
              "      <td>0</td>\n",
              "      <td>nonexistent</td>\n",
              "      <td>Paris</td>\n",
              "      <td>NaN</td>\n",
              "      <td>paris-suffren-2</td>\n",
              "      <td>STATION</td>\n",
              "      <td>48.857, 2.2917</td>\n",
              "      <td>75015</td>\n",
              "      <td>Paris/Suffren/2</td>\n",
              "      <td>operational</td>\n",
              "      <td>NaN</td>\n",
              "      <td>2</td>\n",
              "      <td>station</td>\n",
              "      <td>ok</td>\n",
              "      <td>nonexistent</td>\n",
              "      <td>2018</td>\n",
              "      <td>4</td>\n",
              "      <td>8</td>\n",
              "      <td>11</td>\n",
              "      <td>43</td>\n",
              "    </tr>\n",
              "    <tr>\n",
              "      <th>1</th>\n",
              "      <td>145 Rue Raymond Losserand</td>\n",
              "      <td>6</td>\n",
              "      <td>6</td>\n",
              "      <td>0</td>\n",
              "      <td>0</td>\n",
              "      <td>0</td>\n",
              "      <td>operational</td>\n",
              "      <td>Paris</td>\n",
              "      <td>NaN</td>\n",
              "      <td>paris-raymondlosserand-145</td>\n",
              "      <td>STATION</td>\n",
              "      <td>48.83126, 2.313088</td>\n",
              "      <td>75014</td>\n",
              "      <td>Paris/Raymond Losserand/145</td>\n",
              "      <td>operational</td>\n",
              "      <td>NaN</td>\n",
              "      <td>0</td>\n",
              "      <td>station</td>\n",
              "      <td>ok</td>\n",
              "      <td>nonexistent</td>\n",
              "      <td>2018</td>\n",
              "      <td>4</td>\n",
              "      <td>6</td>\n",
              "      <td>7</td>\n",
              "      <td>24</td>\n",
              "    </tr>\n",
              "    <tr>\n",
              "      <th>2</th>\n",
              "      <td>2 Avenue John Fitzgerald Kennedy</td>\n",
              "      <td>3</td>\n",
              "      <td>3</td>\n",
              "      <td>0</td>\n",
              "      <td>2</td>\n",
              "      <td>0</td>\n",
              "      <td>operational</td>\n",
              "      <td>Le Bourget</td>\n",
              "      <td>NaN</td>\n",
              "      <td>lebourget-johnfitzgeraldkennedy-2</td>\n",
              "      <td>STATION</td>\n",
              "      <td>48.938103, 2.4286035</td>\n",
              "      <td>93350</td>\n",
              "      <td>Le Bourget/John Fitzgerald Kennedy/2</td>\n",
              "      <td>operational</td>\n",
              "      <td>NaN</td>\n",
              "      <td>1</td>\n",
              "      <td>station</td>\n",
              "      <td>ok</td>\n",
              "      <td>nonexistent</td>\n",
              "      <td>2018</td>\n",
              "      <td>4</td>\n",
              "      <td>3</td>\n",
              "      <td>20</td>\n",
              "      <td>14</td>\n",
              "    </tr>\n",
              "    <tr>\n",
              "      <th>3</th>\n",
              "      <td>51 Rue EugÃ¨ne OudinÃ©</td>\n",
              "      <td>3</td>\n",
              "      <td>3</td>\n",
              "      <td>1</td>\n",
              "      <td>0</td>\n",
              "      <td>1</td>\n",
              "      <td>operational</td>\n",
              "      <td>Paris</td>\n",
              "      <td>NaN</td>\n",
              "      <td>paris-eugeneoudine-51</td>\n",
              "      <td>STATION</td>\n",
              "      <td>48.8250327, 2.3725162</td>\n",
              "      <td>75013</td>\n",
              "      <td>Paris/EugÃ¨ne OudinÃ©/51</td>\n",
              "      <td>operational</td>\n",
              "      <td>NaN</td>\n",
              "      <td>2</td>\n",
              "      <td>station</td>\n",
              "      <td>ok</td>\n",
              "      <td>nonexistent</td>\n",
              "      <td>2018</td>\n",
              "      <td>4</td>\n",
              "      <td>4</td>\n",
              "      <td>4</td>\n",
              "      <td>37</td>\n",
              "    </tr>\n",
              "    <tr>\n",
              "      <th>4</th>\n",
              "      <td>6 avenue de la Porte de Champerret</td>\n",
              "      <td>3</td>\n",
              "      <td>3</td>\n",
              "      <td>0</td>\n",
              "      <td>0</td>\n",
              "      <td>0</td>\n",
              "      <td>nonexistent</td>\n",
              "      <td>Paris</td>\n",
              "      <td>NaN</td>\n",
              "      <td>paris-portedechamperret-6</td>\n",
              "      <td>PARKING</td>\n",
              "      <td>48.8862632, 2.2874511</td>\n",
              "      <td>75017</td>\n",
              "      <td>Paris/Porte de Champerret/6</td>\n",
              "      <td>operational</td>\n",
              "      <td>NaN</td>\n",
              "      <td>3</td>\n",
              "      <td>station</td>\n",
              "      <td>ok</td>\n",
              "      <td>nonexistent</td>\n",
              "      <td>2018</td>\n",
              "      <td>4</td>\n",
              "      <td>8</td>\n",
              "      <td>17</td>\n",
              "      <td>23</td>\n",
              "    </tr>\n",
              "  </tbody>\n",
              "</table>\n",
              "</div>"
            ],
            "text/plain": [
              "                              Address  Cars  Bluecar counter  ...  day  hour  minute\n",
              "0                 2 Avenue de Suffren     0                0  ...    8    11      43\n",
              "1           145 Rue Raymond Losserand     6                6  ...    6     7      24\n",
              "2    2 Avenue John Fitzgerald Kennedy     3                3  ...    3    20      14\n",
              "3              51 Rue EugÃ¨ne OudinÃ©     3                3  ...    4     4      37\n",
              "4  6 avenue de la Porte de Champerret     3                3  ...    8    17      23\n",
              "\n",
              "[5 rows x 25 columns]"
            ]
          },
          "metadata": {
            "tags": []
          },
          "execution_count": 58
        }
      ]
    },
    {
      "cell_type": "code",
      "metadata": {
        "colab": {
          "base_uri": "https://localhost:8080/"
        },
        "id": "h38si0jXMtah",
        "outputId": "cb8b4027-feb8-4426-afc7-e4bd5a72e8d5"
      },
      "source": [
        "# Accessing information about our dataset;\n",
        "\n",
        "Autolib.info()"
      ],
      "execution_count": 59,
      "outputs": [
        {
          "output_type": "stream",
          "text": [
            "<class 'pandas.core.frame.DataFrame'>\n",
            "RangeIndex: 5000 entries, 0 to 4999\n",
            "Data columns (total 25 columns):\n",
            " #   Column               Non-Null Count  Dtype \n",
            "---  ------               --------------  ----- \n",
            " 0   Address              5000 non-null   object\n",
            " 1   Cars                 5000 non-null   int64 \n",
            " 2   Bluecar counter      5000 non-null   int64 \n",
            " 3   Utilib counter       5000 non-null   int64 \n",
            " 4   Utilib 1.4 counter   5000 non-null   int64 \n",
            " 5   Charge Slots         5000 non-null   int64 \n",
            " 6   Charging Status      5000 non-null   object\n",
            " 7   City                 5000 non-null   object\n",
            " 8   Displayed comment    111 non-null    object\n",
            " 9   ID                   5000 non-null   object\n",
            " 10  Kind                 5000 non-null   object\n",
            " 11  Geo point            5000 non-null   object\n",
            " 12  Postal code          5000 non-null   int64 \n",
            " 13  Public name          5000 non-null   object\n",
            " 14  Rental status        5000 non-null   object\n",
            " 15  Scheduled at         47 non-null     object\n",
            " 16  Slots                5000 non-null   int64 \n",
            " 17  Station type         5000 non-null   object\n",
            " 18  Status               5000 non-null   object\n",
            " 19  Subscription status  5000 non-null   object\n",
            " 20  year                 5000 non-null   int64 \n",
            " 21  month                5000 non-null   int64 \n",
            " 22  day                  5000 non-null   int64 \n",
            " 23  hour                 5000 non-null   int64 \n",
            " 24  minute               5000 non-null   int64 \n",
            "dtypes: int64(12), object(13)\n",
            "memory usage: 976.7+ KB\n"
          ],
          "name": "stdout"
        }
      ]
    },
    {
      "cell_type": "code",
      "metadata": {
        "colab": {
          "base_uri": "https://localhost:8080/"
        },
        "id": "zw5U_hpUNAmq",
        "outputId": "8ebaad0d-44ce-4116-ceb0-519772cc8b8e"
      },
      "source": [
        "# Now let's preview the shape of our dataframe\n",
        "\n",
        "Autolib.shape"
      ],
      "execution_count": 60,
      "outputs": [
        {
          "output_type": "execute_result",
          "data": {
            "text/plain": [
              "(5000, 25)"
            ]
          },
          "metadata": {
            "tags": []
          },
          "execution_count": 60
        }
      ]
    },
    {
      "cell_type": "markdown",
      "metadata": {
        "id": "C9jM6C5kNefr"
      },
      "source": [
        "# 1.1 Data Cleaning"
      ]
    },
    {
      "cell_type": "code",
      "metadata": {
        "colab": {
          "base_uri": "https://localhost:8080/"
        },
        "id": "NmDdOJRDN3Ea",
        "outputId": "852ed196-f2b1-4c3d-bcc6-9d0f28bdf5ab"
      },
      "source": [
        "# First we'll find if there are any missing values in our data and if so\n",
        "#How many missing values are there?\n",
        "\n",
        "Autolib.isna().sum().sum()"
      ],
      "execution_count": 61,
      "outputs": [
        {
          "output_type": "execute_result",
          "data": {
            "text/plain": [
              "9842"
            ]
          },
          "metadata": {
            "tags": []
          },
          "execution_count": 61
        }
      ]
    },
    {
      "cell_type": "code",
      "metadata": {
        "colab": {
          "base_uri": "https://localhost:8080/"
        },
        "id": "CjOdB1GeONDC",
        "outputId": "b82a5699-8fe6-4a1f-a0bd-874ca05097e2"
      },
      "source": [
        "# Now we drop the columns that don't add any value to our dataset\n",
        "# We will then preview the shape of our new dataset\n",
        "\n",
        "Autolib2=Autolib.drop(columns=['Displayed comment','Public name','Address','Scheduled at' ,'Geo point','Subscription status' ])\n",
        "Autolib2.shape"
      ],
      "execution_count": 62,
      "outputs": [
        {
          "output_type": "execute_result",
          "data": {
            "text/plain": [
              "(5000, 19)"
            ]
          },
          "metadata": {
            "tags": []
          },
          "execution_count": 62
        }
      ]
    },
    {
      "cell_type": "code",
      "metadata": {
        "colab": {
          "base_uri": "https://localhost:8080/",
          "height": 428
        },
        "id": "6ClfAWviPXBu",
        "outputId": "82d84cdb-a1bc-4b9c-db39-c6303ebc9440"
      },
      "source": [
        "#Now that the data is clean, we will create a new column with the timestamp for our analysis.\n",
        "#We will then preview our dataset\n",
        "\n",
        "Autolib2['Timestamp']= pd.to_datetime(Autolib2[['year', 'month', 'day', 'hour', 'minute']])\n",
        "Autolib_Timestamp=Autolib2\n",
        "Autolib_Timestamp.head(5)"
      ],
      "execution_count": 63,
      "outputs": [
        {
          "output_type": "execute_result",
          "data": {
            "text/html": [
              "<div>\n",
              "<style scoped>\n",
              "    .dataframe tbody tr th:only-of-type {\n",
              "        vertical-align: middle;\n",
              "    }\n",
              "\n",
              "    .dataframe tbody tr th {\n",
              "        vertical-align: top;\n",
              "    }\n",
              "\n",
              "    .dataframe thead th {\n",
              "        text-align: right;\n",
              "    }\n",
              "</style>\n",
              "<table border=\"1\" class=\"dataframe\">\n",
              "  <thead>\n",
              "    <tr style=\"text-align: right;\">\n",
              "      <th></th>\n",
              "      <th>Cars</th>\n",
              "      <th>Bluecar counter</th>\n",
              "      <th>Utilib counter</th>\n",
              "      <th>Utilib 1.4 counter</th>\n",
              "      <th>Charge Slots</th>\n",
              "      <th>Charging Status</th>\n",
              "      <th>City</th>\n",
              "      <th>ID</th>\n",
              "      <th>Kind</th>\n",
              "      <th>Postal code</th>\n",
              "      <th>Rental status</th>\n",
              "      <th>Slots</th>\n",
              "      <th>Station type</th>\n",
              "      <th>Status</th>\n",
              "      <th>year</th>\n",
              "      <th>month</th>\n",
              "      <th>day</th>\n",
              "      <th>hour</th>\n",
              "      <th>minute</th>\n",
              "      <th>Timestamp</th>\n",
              "    </tr>\n",
              "  </thead>\n",
              "  <tbody>\n",
              "    <tr>\n",
              "      <th>0</th>\n",
              "      <td>0</td>\n",
              "      <td>0</td>\n",
              "      <td>0</td>\n",
              "      <td>0</td>\n",
              "      <td>0</td>\n",
              "      <td>nonexistent</td>\n",
              "      <td>Paris</td>\n",
              "      <td>paris-suffren-2</td>\n",
              "      <td>STATION</td>\n",
              "      <td>75015</td>\n",
              "      <td>operational</td>\n",
              "      <td>2</td>\n",
              "      <td>station</td>\n",
              "      <td>ok</td>\n",
              "      <td>2018</td>\n",
              "      <td>4</td>\n",
              "      <td>8</td>\n",
              "      <td>11</td>\n",
              "      <td>43</td>\n",
              "      <td>2018-04-08 11:43:00</td>\n",
              "    </tr>\n",
              "    <tr>\n",
              "      <th>1</th>\n",
              "      <td>6</td>\n",
              "      <td>6</td>\n",
              "      <td>0</td>\n",
              "      <td>0</td>\n",
              "      <td>0</td>\n",
              "      <td>operational</td>\n",
              "      <td>Paris</td>\n",
              "      <td>paris-raymondlosserand-145</td>\n",
              "      <td>STATION</td>\n",
              "      <td>75014</td>\n",
              "      <td>operational</td>\n",
              "      <td>0</td>\n",
              "      <td>station</td>\n",
              "      <td>ok</td>\n",
              "      <td>2018</td>\n",
              "      <td>4</td>\n",
              "      <td>6</td>\n",
              "      <td>7</td>\n",
              "      <td>24</td>\n",
              "      <td>2018-04-06 07:24:00</td>\n",
              "    </tr>\n",
              "    <tr>\n",
              "      <th>2</th>\n",
              "      <td>3</td>\n",
              "      <td>3</td>\n",
              "      <td>0</td>\n",
              "      <td>2</td>\n",
              "      <td>0</td>\n",
              "      <td>operational</td>\n",
              "      <td>Le Bourget</td>\n",
              "      <td>lebourget-johnfitzgeraldkennedy-2</td>\n",
              "      <td>STATION</td>\n",
              "      <td>93350</td>\n",
              "      <td>operational</td>\n",
              "      <td>1</td>\n",
              "      <td>station</td>\n",
              "      <td>ok</td>\n",
              "      <td>2018</td>\n",
              "      <td>4</td>\n",
              "      <td>3</td>\n",
              "      <td>20</td>\n",
              "      <td>14</td>\n",
              "      <td>2018-04-03 20:14:00</td>\n",
              "    </tr>\n",
              "    <tr>\n",
              "      <th>3</th>\n",
              "      <td>3</td>\n",
              "      <td>3</td>\n",
              "      <td>1</td>\n",
              "      <td>0</td>\n",
              "      <td>1</td>\n",
              "      <td>operational</td>\n",
              "      <td>Paris</td>\n",
              "      <td>paris-eugeneoudine-51</td>\n",
              "      <td>STATION</td>\n",
              "      <td>75013</td>\n",
              "      <td>operational</td>\n",
              "      <td>2</td>\n",
              "      <td>station</td>\n",
              "      <td>ok</td>\n",
              "      <td>2018</td>\n",
              "      <td>4</td>\n",
              "      <td>4</td>\n",
              "      <td>4</td>\n",
              "      <td>37</td>\n",
              "      <td>2018-04-04 04:37:00</td>\n",
              "    </tr>\n",
              "    <tr>\n",
              "      <th>4</th>\n",
              "      <td>3</td>\n",
              "      <td>3</td>\n",
              "      <td>0</td>\n",
              "      <td>0</td>\n",
              "      <td>0</td>\n",
              "      <td>nonexistent</td>\n",
              "      <td>Paris</td>\n",
              "      <td>paris-portedechamperret-6</td>\n",
              "      <td>PARKING</td>\n",
              "      <td>75017</td>\n",
              "      <td>operational</td>\n",
              "      <td>3</td>\n",
              "      <td>station</td>\n",
              "      <td>ok</td>\n",
              "      <td>2018</td>\n",
              "      <td>4</td>\n",
              "      <td>8</td>\n",
              "      <td>17</td>\n",
              "      <td>23</td>\n",
              "      <td>2018-04-08 17:23:00</td>\n",
              "    </tr>\n",
              "  </tbody>\n",
              "</table>\n",
              "</div>"
            ],
            "text/plain": [
              "   Cars  Bluecar counter  Utilib counter  ...  hour  minute           Timestamp\n",
              "0     0                0               0  ...    11      43 2018-04-08 11:43:00\n",
              "1     6                6               0  ...     7      24 2018-04-06 07:24:00\n",
              "2     3                3               0  ...    20      14 2018-04-03 20:14:00\n",
              "3     3                3               1  ...     4      37 2018-04-04 04:37:00\n",
              "4     3                3               0  ...    17      23 2018-04-08 17:23:00\n",
              "\n",
              "[5 rows x 20 columns]"
            ]
          },
          "metadata": {
            "tags": []
          },
          "execution_count": 63
        }
      ]
    },
    {
      "cell_type": "markdown",
      "metadata": {
        "id": "QMEfVJQkP_gv"
      },
      "source": [
        "# 1.2 Data Analysis"
      ]
    },
    {
      "cell_type": "code",
      "metadata": {
        "colab": {
          "base_uri": "https://localhost:8080/",
          "height": 359
        },
        "id": "8CUYq7D5QNZE",
        "outputId": "03c0d622-25b1-4504-fea2-d53fe455d2f2"
      },
      "source": [
        "# To determine the most popular hour, first we need to know which cars were dropped off\n",
        "# which were picked\n",
        "# We will create a new dataframe for this with only the bluecar counter\n",
        "\n",
        "Blue_Cars= Autolib_Timestamp.loc[:,['City','ID','Postal code','Bluecar counter','Timestamp','hour']]\n",
        "Blue_Cars.head(10)"
      ],
      "execution_count": 64,
      "outputs": [
        {
          "output_type": "execute_result",
          "data": {
            "text/html": [
              "<div>\n",
              "<style scoped>\n",
              "    .dataframe tbody tr th:only-of-type {\n",
              "        vertical-align: middle;\n",
              "    }\n",
              "\n",
              "    .dataframe tbody tr th {\n",
              "        vertical-align: top;\n",
              "    }\n",
              "\n",
              "    .dataframe thead th {\n",
              "        text-align: right;\n",
              "    }\n",
              "</style>\n",
              "<table border=\"1\" class=\"dataframe\">\n",
              "  <thead>\n",
              "    <tr style=\"text-align: right;\">\n",
              "      <th></th>\n",
              "      <th>City</th>\n",
              "      <th>ID</th>\n",
              "      <th>Postal code</th>\n",
              "      <th>Bluecar counter</th>\n",
              "      <th>Timestamp</th>\n",
              "      <th>hour</th>\n",
              "    </tr>\n",
              "  </thead>\n",
              "  <tbody>\n",
              "    <tr>\n",
              "      <th>0</th>\n",
              "      <td>Paris</td>\n",
              "      <td>paris-suffren-2</td>\n",
              "      <td>75015</td>\n",
              "      <td>0</td>\n",
              "      <td>2018-04-08 11:43:00</td>\n",
              "      <td>11</td>\n",
              "    </tr>\n",
              "    <tr>\n",
              "      <th>1</th>\n",
              "      <td>Paris</td>\n",
              "      <td>paris-raymondlosserand-145</td>\n",
              "      <td>75014</td>\n",
              "      <td>6</td>\n",
              "      <td>2018-04-06 07:24:00</td>\n",
              "      <td>7</td>\n",
              "    </tr>\n",
              "    <tr>\n",
              "      <th>2</th>\n",
              "      <td>Le Bourget</td>\n",
              "      <td>lebourget-johnfitzgeraldkennedy-2</td>\n",
              "      <td>93350</td>\n",
              "      <td>3</td>\n",
              "      <td>2018-04-03 20:14:00</td>\n",
              "      <td>20</td>\n",
              "    </tr>\n",
              "    <tr>\n",
              "      <th>3</th>\n",
              "      <td>Paris</td>\n",
              "      <td>paris-eugeneoudine-51</td>\n",
              "      <td>75013</td>\n",
              "      <td>3</td>\n",
              "      <td>2018-04-04 04:37:00</td>\n",
              "      <td>4</td>\n",
              "    </tr>\n",
              "    <tr>\n",
              "      <th>4</th>\n",
              "      <td>Paris</td>\n",
              "      <td>paris-portedechamperret-6</td>\n",
              "      <td>75017</td>\n",
              "      <td>3</td>\n",
              "      <td>2018-04-08 17:23:00</td>\n",
              "      <td>17</td>\n",
              "    </tr>\n",
              "    <tr>\n",
              "      <th>5</th>\n",
              "      <td>Paris</td>\n",
              "      <td>paris-voltaire-8</td>\n",
              "      <td>75011</td>\n",
              "      <td>0</td>\n",
              "      <td>2018-04-06 07:02:00</td>\n",
              "      <td>7</td>\n",
              "    </tr>\n",
              "    <tr>\n",
              "      <th>6</th>\n",
              "      <td>Paris</td>\n",
              "      <td>paris-citroencevennes-parking</td>\n",
              "      <td>75015</td>\n",
              "      <td>0</td>\n",
              "      <td>2018-04-08 18:20:00</td>\n",
              "      <td>18</td>\n",
              "    </tr>\n",
              "    <tr>\n",
              "      <th>7</th>\n",
              "      <td>Nanterre</td>\n",
              "      <td>nanterre-luaps-17</td>\n",
              "      <td>92000</td>\n",
              "      <td>3</td>\n",
              "      <td>2018-04-04 22:13:00</td>\n",
              "      <td>22</td>\n",
              "    </tr>\n",
              "    <tr>\n",
              "      <th>8</th>\n",
              "      <td>Paris</td>\n",
              "      <td>paris-jeanmoulin-34</td>\n",
              "      <td>75014</td>\n",
              "      <td>1</td>\n",
              "      <td>2018-04-02 22:58:00</td>\n",
              "      <td>22</td>\n",
              "    </tr>\n",
              "    <tr>\n",
              "      <th>9</th>\n",
              "      <td>Paris</td>\n",
              "      <td>paris-anvers-parking</td>\n",
              "      <td>75009</td>\n",
              "      <td>6</td>\n",
              "      <td>2018-04-04 15:02:00</td>\n",
              "      <td>15</td>\n",
              "    </tr>\n",
              "  </tbody>\n",
              "</table>\n",
              "</div>"
            ],
            "text/plain": [
              "         City                                 ID  ...           Timestamp  hour\n",
              "0       Paris                    paris-suffren-2  ... 2018-04-08 11:43:00    11\n",
              "1       Paris         paris-raymondlosserand-145  ... 2018-04-06 07:24:00     7\n",
              "2  Le Bourget  lebourget-johnfitzgeraldkennedy-2  ... 2018-04-03 20:14:00    20\n",
              "3       Paris              paris-eugeneoudine-51  ... 2018-04-04 04:37:00     4\n",
              "4       Paris          paris-portedechamperret-6  ... 2018-04-08 17:23:00    17\n",
              "5       Paris                   paris-voltaire-8  ... 2018-04-06 07:02:00     7\n",
              "6       Paris      paris-citroencevennes-parking  ... 2018-04-08 18:20:00    18\n",
              "7    Nanterre                  nanterre-luaps-17  ... 2018-04-04 22:13:00    22\n",
              "8       Paris                paris-jeanmoulin-34  ... 2018-04-02 22:58:00    22\n",
              "9       Paris               paris-anvers-parking  ... 2018-04-04 15:02:00    15\n",
              "\n",
              "[10 rows x 6 columns]"
            ]
          },
          "metadata": {
            "tags": []
          },
          "execution_count": 64
        }
      ]
    },
    {
      "cell_type": "code",
      "metadata": {
        "colab": {
          "base_uri": "https://localhost:8080/",
          "height": 546
        },
        "id": "Z0tcwY0dR9vr",
        "outputId": "260663a7-5bdf-4e57-f4d5-0d7a43bf8ccc"
      },
      "source": [
        "# First we wil sort our dataset by timestamp\n",
        "# We then create a new entry showing if it was a pick up or drop off;\n",
        "# This we do by getting the difference of the Bluecar counter rows. If there are more cars, there was a drop off\n",
        "# Less cars means pick up\n",
        "\n",
        "Blue_Cars=Blue_Cars.sort_values(by='Timestamp',ascending=True)\n",
        "Blue_Cars['Incremental'] = Blue_Cars['Bluecar counter'].diff()\n",
        "Blue_Cars= Blue_Cars[Blue_Cars.Incremental != 0]\n",
        "Blue_Cars['Pick_Up/Drop_Off']=np.where(Blue_Cars['Incremental']>0, 'Drop', 'Pick')\n",
        "Blue_Cars.head(10)"
      ],
      "execution_count": 65,
      "outputs": [
        {
          "output_type": "execute_result",
          "data": {
            "text/html": [
              "<div>\n",
              "<style scoped>\n",
              "    .dataframe tbody tr th:only-of-type {\n",
              "        vertical-align: middle;\n",
              "    }\n",
              "\n",
              "    .dataframe tbody tr th {\n",
              "        vertical-align: top;\n",
              "    }\n",
              "\n",
              "    .dataframe thead th {\n",
              "        text-align: right;\n",
              "    }\n",
              "</style>\n",
              "<table border=\"1\" class=\"dataframe\">\n",
              "  <thead>\n",
              "    <tr style=\"text-align: right;\">\n",
              "      <th></th>\n",
              "      <th>City</th>\n",
              "      <th>ID</th>\n",
              "      <th>Postal code</th>\n",
              "      <th>Bluecar counter</th>\n",
              "      <th>Timestamp</th>\n",
              "      <th>hour</th>\n",
              "      <th>Incremental</th>\n",
              "      <th>Pick_Up/Drop_Off</th>\n",
              "    </tr>\n",
              "  </thead>\n",
              "  <tbody>\n",
              "    <tr>\n",
              "      <th>1046</th>\n",
              "      <td>Paris</td>\n",
              "      <td>paris-monge-112</td>\n",
              "      <td>75005</td>\n",
              "      <td>0</td>\n",
              "      <td>2018-04-01 00:00:00</td>\n",
              "      <td>0</td>\n",
              "      <td>NaN</td>\n",
              "      <td>Pick</td>\n",
              "    </tr>\n",
              "    <tr>\n",
              "      <th>2059</th>\n",
              "      <td>Paris</td>\n",
              "      <td>paris-mozart-2</td>\n",
              "      <td>75016</td>\n",
              "      <td>1</td>\n",
              "      <td>2018-04-01 00:03:00</td>\n",
              "      <td>0</td>\n",
              "      <td>1.0</td>\n",
              "      <td>Drop</td>\n",
              "    </tr>\n",
              "    <tr>\n",
              "      <th>4453</th>\n",
              "      <td>Paris</td>\n",
              "      <td>paris-neuvesaintpierre-2</td>\n",
              "      <td>75004</td>\n",
              "      <td>0</td>\n",
              "      <td>2018-04-01 00:04:00</td>\n",
              "      <td>0</td>\n",
              "      <td>-1.0</td>\n",
              "      <td>Pick</td>\n",
              "    </tr>\n",
              "    <tr>\n",
              "      <th>584</th>\n",
              "      <td>Ãpinay-sur-Seine</td>\n",
              "      <td>epinaysurseine-avenir-1</td>\n",
              "      <td>93800</td>\n",
              "      <td>7</td>\n",
              "      <td>2018-04-01 00:05:00</td>\n",
              "      <td>0</td>\n",
              "      <td>7.0</td>\n",
              "      <td>Drop</td>\n",
              "    </tr>\n",
              "    <tr>\n",
              "      <th>4357</th>\n",
              "      <td>Paris</td>\n",
              "      <td>paris-margueritelong-11</td>\n",
              "      <td>75017</td>\n",
              "      <td>3</td>\n",
              "      <td>2018-04-01 00:10:00</td>\n",
              "      <td>0</td>\n",
              "      <td>-4.0</td>\n",
              "      <td>Pick</td>\n",
              "    </tr>\n",
              "    <tr>\n",
              "      <th>3652</th>\n",
              "      <td>Paris</td>\n",
              "      <td>paris-raymondpitet-7</td>\n",
              "      <td>75017</td>\n",
              "      <td>4</td>\n",
              "      <td>2018-04-01 00:11:00</td>\n",
              "      <td>0</td>\n",
              "      <td>1.0</td>\n",
              "      <td>Drop</td>\n",
              "    </tr>\n",
              "    <tr>\n",
              "      <th>3400</th>\n",
              "      <td>Garches</td>\n",
              "      <td>garches-degaulle-168</td>\n",
              "      <td>92380</td>\n",
              "      <td>5</td>\n",
              "      <td>2018-04-01 00:16:00</td>\n",
              "      <td>0</td>\n",
              "      <td>1.0</td>\n",
              "      <td>Drop</td>\n",
              "    </tr>\n",
              "    <tr>\n",
              "      <th>4792</th>\n",
              "      <td>Paris</td>\n",
              "      <td>paris-emileaugier-20</td>\n",
              "      <td>75016</td>\n",
              "      <td>3</td>\n",
              "      <td>2018-04-01 00:19:00</td>\n",
              "      <td>0</td>\n",
              "      <td>-2.0</td>\n",
              "      <td>Pick</td>\n",
              "    </tr>\n",
              "    <tr>\n",
              "      <th>2731</th>\n",
              "      <td>SÃ¨vres</td>\n",
              "      <td>sevres-granderue-123</td>\n",
              "      <td>92310</td>\n",
              "      <td>1</td>\n",
              "      <td>2018-04-01 00:20:00</td>\n",
              "      <td>0</td>\n",
              "      <td>-2.0</td>\n",
              "      <td>Pick</td>\n",
              "    </tr>\n",
              "    <tr>\n",
              "      <th>3583</th>\n",
              "      <td>Paris</td>\n",
              "      <td>paris-flandre-169</td>\n",
              "      <td>75019</td>\n",
              "      <td>3</td>\n",
              "      <td>2018-04-01 00:20:00</td>\n",
              "      <td>0</td>\n",
              "      <td>2.0</td>\n",
              "      <td>Drop</td>\n",
              "    </tr>\n",
              "  </tbody>\n",
              "</table>\n",
              "</div>"
            ],
            "text/plain": [
              "                   City                        ID  ...  Incremental  Pick_Up/Drop_Off\n",
              "1046              Paris           paris-monge-112  ...          NaN              Pick\n",
              "2059              Paris            paris-mozart-2  ...          1.0              Drop\n",
              "4453              Paris  paris-neuvesaintpierre-2  ...         -1.0              Pick\n",
              "584   Ãpinay-sur-Seine   epinaysurseine-avenir-1  ...          7.0              Drop\n",
              "4357              Paris   paris-margueritelong-11  ...         -4.0              Pick\n",
              "3652              Paris      paris-raymondpitet-7  ...          1.0              Drop\n",
              "3400            Garches      garches-degaulle-168  ...          1.0              Drop\n",
              "4792              Paris      paris-emileaugier-20  ...         -2.0              Pick\n",
              "2731            SÃ¨vres      sevres-granderue-123  ...         -2.0              Pick\n",
              "3583              Paris         paris-flandre-169  ...          2.0              Drop\n",
              "\n",
              "[10 rows x 8 columns]"
            ]
          },
          "metadata": {
            "tags": []
          },
          "execution_count": 65
        }
      ]
    },
    {
      "cell_type": "markdown",
      "metadata": {
        "id": "ICrnqXYlb3iV"
      },
      "source": [
        "# Exporting cleaned and Analysed Data to CSV"
      ]
    },
    {
      "cell_type": "code",
      "metadata": {
        "id": "MyTP81aVW1ih"
      },
      "source": [
        "# We will now export our new data to csv\n",
        "\n",
        "Blue_Cars.to_csv('Blue_Cars.csv')\n"
      ],
      "execution_count": 66,
      "outputs": []
    },
    {
      "cell_type": "code",
      "metadata": {
        "colab": {
          "base_uri": "https://localhost:8080/",
          "height": 230
        },
        "id": "2JZOrHwvbz1n",
        "outputId": "10af452f-d27e-4a26-ecf2-67492820c265"
      },
      "source": [
        "# Using sql, we will read our new csv file and answer our question.\n",
        "\n",
        "with open('Blue_Cars.csv','r') as f:\n",
        "    Blue_Cars2 = pd.read_csv(f, index_col=0, encoding='utf-8')\n",
        "%sql DROP TABLE if EXISTS Blue_Cars2;\n",
        "%sql PERSIST Blue_Cars2;\n",
        "\n",
        "%sql SELECT * FROM Blue_Cars2 LIMIT 5"
      ],
      "execution_count": 67,
      "outputs": [
        {
          "output_type": "stream",
          "text": [
            " * sqlite://\n",
            "Done.\n",
            " * sqlite://\n",
            " * sqlite://\n",
            "Done.\n"
          ],
          "name": "stdout"
        },
        {
          "output_type": "execute_result",
          "data": {
            "text/html": [
              "<table>\n",
              "    <thead>\n",
              "        <tr>\n",
              "            <th>index</th>\n",
              "            <th>City</th>\n",
              "            <th>ID</th>\n",
              "            <th>Postal code</th>\n",
              "            <th>Bluecar counter</th>\n",
              "            <th>Timestamp</th>\n",
              "            <th>hour</th>\n",
              "            <th>Incremental</th>\n",
              "            <th>Pick_Up/Drop_Off</th>\n",
              "        </tr>\n",
              "    </thead>\n",
              "    <tbody>\n",
              "        <tr>\n",
              "            <td>1046</td>\n",
              "            <td>Paris</td>\n",
              "            <td>paris-monge-112</td>\n",
              "            <td>75005</td>\n",
              "            <td>0</td>\n",
              "            <td>2018-04-01 00:00:00</td>\n",
              "            <td>0</td>\n",
              "            <td>None</td>\n",
              "            <td>Pick</td>\n",
              "        </tr>\n",
              "        <tr>\n",
              "            <td>2059</td>\n",
              "            <td>Paris</td>\n",
              "            <td>paris-mozart-2</td>\n",
              "            <td>75016</td>\n",
              "            <td>1</td>\n",
              "            <td>2018-04-01 00:03:00</td>\n",
              "            <td>0</td>\n",
              "            <td>1.0</td>\n",
              "            <td>Drop</td>\n",
              "        </tr>\n",
              "        <tr>\n",
              "            <td>4453</td>\n",
              "            <td>Paris</td>\n",
              "            <td>paris-neuvesaintpierre-2</td>\n",
              "            <td>75004</td>\n",
              "            <td>0</td>\n",
              "            <td>2018-04-01 00:04:00</td>\n",
              "            <td>0</td>\n",
              "            <td>-1.0</td>\n",
              "            <td>Pick</td>\n",
              "        </tr>\n",
              "        <tr>\n",
              "            <td>584</td>\n",
              "            <td>Ãpinay-sur-Seine</td>\n",
              "            <td>epinaysurseine-avenir-1</td>\n",
              "            <td>93800</td>\n",
              "            <td>7</td>\n",
              "            <td>2018-04-01 00:05:00</td>\n",
              "            <td>0</td>\n",
              "            <td>7.0</td>\n",
              "            <td>Drop</td>\n",
              "        </tr>\n",
              "        <tr>\n",
              "            <td>4357</td>\n",
              "            <td>Paris</td>\n",
              "            <td>paris-margueritelong-11</td>\n",
              "            <td>75017</td>\n",
              "            <td>3</td>\n",
              "            <td>2018-04-01 00:10:00</td>\n",
              "            <td>0</td>\n",
              "            <td>-4.0</td>\n",
              "            <td>Pick</td>\n",
              "        </tr>\n",
              "    </tbody>\n",
              "</table>"
            ],
            "text/plain": [
              "[(1046, 'Paris', 'paris-monge-112', 75005, 0, '2018-04-01 00:00:00', 0, None, 'Pick'),\n",
              " (2059, 'Paris', 'paris-mozart-2', 75016, 1, '2018-04-01 00:03:00', 0, 1.0, 'Drop'),\n",
              " (4453, 'Paris', 'paris-neuvesaintpierre-2', 75004, 0, '2018-04-01 00:04:00', 0, -1.0, 'Pick'),\n",
              " (584, 'Ã\\x89pinay-sur-Seine', 'epinaysurseine-avenir-1', 93800, 7, '2018-04-01 00:05:00', 0, 7.0, 'Drop'),\n",
              " (4357, 'Paris', 'paris-margueritelong-11', 75017, 3, '2018-04-01 00:10:00', 0, -4.0, 'Pick')]"
            ]
          },
          "metadata": {
            "tags": []
          },
          "execution_count": 67
        }
      ]
    },
    {
      "cell_type": "markdown",
      "metadata": {
        "id": "9ouutWZfclIZ"
      },
      "source": [
        "# Using sql to categorize our data"
      ]
    },
    {
      "cell_type": "code",
      "metadata": {
        "id": "kNsmN1Iucqy8"
      },
      "source": [
        "# First we create a new table with Paris Pick Ups only\n",
        "%%sql\n",
        "CREATE TABLE Paris_BlueCars2 AS\n",
        "SELECT City, ID, Timestamp, \"Pick_UP/Drop_Off\", hour FROM Blue_Cars2\n",
        "WHERE City = 'Paris' AND \"Pick_UP/Drop_Off\" = 'Pick';"
      ],
      "execution_count": null,
      "outputs": []
    },
    {
      "cell_type": "code",
      "metadata": {
        "colab": {
          "base_uri": "https://localhost:8080/",
          "height": 179
        },
        "id": "5p-vnKeBfK-I",
        "outputId": "d6452661-3066-48d2-b4bb-5554008201e8"
      },
      "source": [
        "# Previewing our new table;\n",
        "\n",
        "%%sql\n",
        "SELECT * FROM Paris_BlueCars2 LIMIT 5"
      ],
      "execution_count": 69,
      "outputs": [
        {
          "output_type": "stream",
          "text": [
            " * sqlite://\n",
            "Done.\n"
          ],
          "name": "stdout"
        },
        {
          "output_type": "execute_result",
          "data": {
            "text/html": [
              "<table>\n",
              "    <thead>\n",
              "        <tr>\n",
              "            <th>City</th>\n",
              "            <th>ID</th>\n",
              "            <th>Timestamp</th>\n",
              "            <th>Pick_Up/Drop_Off</th>\n",
              "            <th>hour</th>\n",
              "        </tr>\n",
              "    </thead>\n",
              "    <tbody>\n",
              "        <tr>\n",
              "            <td>Paris</td>\n",
              "            <td>paris-monge-112</td>\n",
              "            <td>2018-04-01 00:00:00</td>\n",
              "            <td>Pick</td>\n",
              "            <td>0</td>\n",
              "        </tr>\n",
              "        <tr>\n",
              "            <td>Paris</td>\n",
              "            <td>paris-neuvesaintpierre-2</td>\n",
              "            <td>2018-04-01 00:04:00</td>\n",
              "            <td>Pick</td>\n",
              "            <td>0</td>\n",
              "        </tr>\n",
              "        <tr>\n",
              "            <td>Paris</td>\n",
              "            <td>paris-margueritelong-11</td>\n",
              "            <td>2018-04-01 00:10:00</td>\n",
              "            <td>Pick</td>\n",
              "            <td>0</td>\n",
              "        </tr>\n",
              "        <tr>\n",
              "            <td>Paris</td>\n",
              "            <td>paris-emileaugier-20</td>\n",
              "            <td>2018-04-01 00:19:00</td>\n",
              "            <td>Pick</td>\n",
              "            <td>0</td>\n",
              "        </tr>\n",
              "        <tr>\n",
              "            <td>Paris</td>\n",
              "            <td>paris-villette-55</td>\n",
              "            <td>2018-04-01 00:35:00</td>\n",
              "            <td>Pick</td>\n",
              "            <td>0</td>\n",
              "        </tr>\n",
              "    </tbody>\n",
              "</table>"
            ],
            "text/plain": [
              "[('Paris', 'paris-monge-112', '2018-04-01 00:00:00', 'Pick', 0),\n",
              " ('Paris', 'paris-neuvesaintpierre-2', '2018-04-01 00:04:00', 'Pick', 0),\n",
              " ('Paris', 'paris-margueritelong-11', '2018-04-01 00:10:00', 'Pick', 0),\n",
              " ('Paris', 'paris-emileaugier-20', '2018-04-01 00:19:00', 'Pick', 0),\n",
              " ('Paris', 'paris-villette-55', '2018-04-01 00:35:00', 'Pick', 0)]"
            ]
          },
          "metadata": {
            "tags": []
          },
          "execution_count": 69
        }
      ]
    },
    {
      "cell_type": "code",
      "metadata": {
        "colab": {
          "base_uri": "https://localhost:8080/",
          "height": 452
        },
        "id": "arnjEOjSfe2m",
        "outputId": "f2052c66-28d6-415c-c084-ff6ecc8e3ada"
      },
      "source": [
        "# Now to get the most popular hour during the day;\n",
        "\n",
        "%%sql\n",
        "SELECT hour, count(hour) AS Popular\n",
        "FROM Paris_BlueCars2\n",
        "WHERE hour < 18\n",
        "GROUP BY hour\n",
        "ORDER BY Popular DESC;"
      ],
      "execution_count": 70,
      "outputs": [
        {
          "output_type": "stream",
          "text": [
            " * sqlite://\n",
            "Done.\n"
          ],
          "name": "stdout"
        },
        {
          "output_type": "execute_result",
          "data": {
            "text/html": [
              "<table>\n",
              "    <thead>\n",
              "        <tr>\n",
              "            <th>hour</th>\n",
              "            <th>Popular</th>\n",
              "        </tr>\n",
              "    </thead>\n",
              "    <tbody>\n",
              "        <tr>\n",
              "            <td>6</td>\n",
              "            <td>62</td>\n",
              "        </tr>\n",
              "        <tr>\n",
              "            <td>7</td>\n",
              "            <td>61</td>\n",
              "        </tr>\n",
              "        <tr>\n",
              "            <td>3</td>\n",
              "            <td>60</td>\n",
              "        </tr>\n",
              "        <tr>\n",
              "            <td>2</td>\n",
              "            <td>59</td>\n",
              "        </tr>\n",
              "        <tr>\n",
              "            <td>8</td>\n",
              "            <td>58</td>\n",
              "        </tr>\n",
              "        <tr>\n",
              "            <td>12</td>\n",
              "            <td>58</td>\n",
              "        </tr>\n",
              "        <tr>\n",
              "            <td>14</td>\n",
              "            <td>58</td>\n",
              "        </tr>\n",
              "        <tr>\n",
              "            <td>16</td>\n",
              "            <td>58</td>\n",
              "        </tr>\n",
              "        <tr>\n",
              "            <td>17</td>\n",
              "            <td>58</td>\n",
              "        </tr>\n",
              "        <tr>\n",
              "            <td>10</td>\n",
              "            <td>57</td>\n",
              "        </tr>\n",
              "        <tr>\n",
              "            <td>15</td>\n",
              "            <td>57</td>\n",
              "        </tr>\n",
              "        <tr>\n",
              "            <td>4</td>\n",
              "            <td>56</td>\n",
              "        </tr>\n",
              "        <tr>\n",
              "            <td>5</td>\n",
              "            <td>55</td>\n",
              "        </tr>\n",
              "        <tr>\n",
              "            <td>0</td>\n",
              "            <td>53</td>\n",
              "        </tr>\n",
              "        <tr>\n",
              "            <td>9</td>\n",
              "            <td>53</td>\n",
              "        </tr>\n",
              "        <tr>\n",
              "            <td>13</td>\n",
              "            <td>53</td>\n",
              "        </tr>\n",
              "        <tr>\n",
              "            <td>1</td>\n",
              "            <td>52</td>\n",
              "        </tr>\n",
              "        <tr>\n",
              "            <td>11</td>\n",
              "            <td>49</td>\n",
              "        </tr>\n",
              "    </tbody>\n",
              "</table>"
            ],
            "text/plain": [
              "[(6, 62),\n",
              " (7, 61),\n",
              " (3, 60),\n",
              " (2, 59),\n",
              " (8, 58),\n",
              " (12, 58),\n",
              " (14, 58),\n",
              " (16, 58),\n",
              " (17, 58),\n",
              " (10, 57),\n",
              " (15, 57),\n",
              " (4, 56),\n",
              " (5, 55),\n",
              " (0, 53),\n",
              " (9, 53),\n",
              " (13, 53),\n",
              " (1, 52),\n",
              " (11, 49)]"
            ]
          },
          "metadata": {
            "tags": []
          },
          "execution_count": 70
        }
      ]
    }
  ]
}